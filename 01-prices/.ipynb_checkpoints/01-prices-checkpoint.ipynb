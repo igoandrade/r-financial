{
 "cells": [
  {
   "cell_type": "markdown",
   "id": "8b60a30e-aaa3-417a-ba38-5b777bd6c323",
   "metadata": {},
   "source": [
    "# Prices"
   ]
  },
  {
   "cell_type": "markdown",
   "id": "1508fc09-9fdc-4660-a022-5ff73b6f06c4",
   "metadata": {},
   "source": [
    "## Import Data into R"
   ]
  },
  {
   "cell_type": "code",
   "execution_count": 4,
   "id": "36a1ed13-d606-4678-8afe-ba509a78e730",
   "metadata": {},
   "outputs": [],
   "source": [
    "data.AMZN <- read.csv(\"data/AMZN.csv\", header = TRUE)"
   ]
  },
  {
   "cell_type": "code",
   "execution_count": 2,
   "id": "aaa0b4ff-77f7-4742-b15a-5440f304253c",
   "metadata": {},
   "outputs": [
    {
     "data": {
      "text/html": [
       "<table class=\"dataframe\">\n",
       "<caption>A data.frame: 6 × 7</caption>\n",
       "<thead>\n",
       "\t<tr><th></th><th scope=col>Date</th><th scope=col>Open</th><th scope=col>High</th><th scope=col>Low</th><th scope=col>Close</th><th scope=col>Adj.Close</th><th scope=col>Volume</th></tr>\n",
       "\t<tr><th></th><th scope=col>&lt;chr&gt;</th><th scope=col>&lt;dbl&gt;</th><th scope=col>&lt;dbl&gt;</th><th scope=col>&lt;dbl&gt;</th><th scope=col>&lt;dbl&gt;</th><th scope=col>&lt;dbl&gt;</th><th scope=col>&lt;int&gt;</th></tr>\n",
       "</thead>\n",
       "<tbody>\n",
       "\t<tr><th scope=row>1</th><td>2010-12-31</td><td>181.96</td><td>182.3000</td><td>179.51</td><td>180.00</td><td>180.00</td><td>3453895</td></tr>\n",
       "\t<tr><th scope=row>2</th><td>2011-01-03</td><td>181.37</td><td>186.0000</td><td>181.21</td><td>184.22</td><td>184.22</td><td>5333813</td></tr>\n",
       "\t<tr><th scope=row>3</th><td>2011-01-04</td><td>186.24</td><td>187.6995</td><td>183.78</td><td>185.01</td><td>185.01</td><td>5034775</td></tr>\n",
       "\t<tr><th scope=row>4</th><td>2011-01-05</td><td>184.10</td><td>187.4500</td><td>184.07</td><td>187.42</td><td>187.42</td><td>3418779</td></tr>\n",
       "\t<tr><th scope=row>5</th><td>2011-01-06</td><td>186.50</td><td>187.4100</td><td>185.25</td><td>185.86</td><td>185.86</td><td>3179610</td></tr>\n",
       "\t<tr><th scope=row>6</th><td>2011-01-07</td><td>187.88</td><td>188.4500</td><td>183.74</td><td>185.49</td><td>185.49</td><td>5222815</td></tr>\n",
       "</tbody>\n",
       "</table>\n"
      ],
      "text/latex": [
       "A data.frame: 6 × 7\n",
       "\\begin{tabular}{r|lllllll}\n",
       "  & Date & Open & High & Low & Close & Adj.Close & Volume\\\\\n",
       "  & <chr> & <dbl> & <dbl> & <dbl> & <dbl> & <dbl> & <int>\\\\\n",
       "\\hline\n",
       "\t1 & 2010-12-31 & 181.96 & 182.3000 & 179.51 & 180.00 & 180.00 & 3453895\\\\\n",
       "\t2 & 2011-01-03 & 181.37 & 186.0000 & 181.21 & 184.22 & 184.22 & 5333813\\\\\n",
       "\t3 & 2011-01-04 & 186.24 & 187.6995 & 183.78 & 185.01 & 185.01 & 5034775\\\\\n",
       "\t4 & 2011-01-05 & 184.10 & 187.4500 & 184.07 & 187.42 & 187.42 & 3418779\\\\\n",
       "\t5 & 2011-01-06 & 186.50 & 187.4100 & 185.25 & 185.86 & 185.86 & 3179610\\\\\n",
       "\t6 & 2011-01-07 & 187.88 & 188.4500 & 183.74 & 185.49 & 185.49 & 5222815\\\\\n",
       "\\end{tabular}\n"
      ],
      "text/markdown": [
       "\n",
       "A data.frame: 6 × 7\n",
       "\n",
       "| <!--/--> | Date &lt;chr&gt; | Open &lt;dbl&gt; | High &lt;dbl&gt; | Low &lt;dbl&gt; | Close &lt;dbl&gt; | Adj.Close &lt;dbl&gt; | Volume &lt;int&gt; |\n",
       "|---|---|---|---|---|---|---|---|\n",
       "| 1 | 2010-12-31 | 181.96 | 182.3000 | 179.51 | 180.00 | 180.00 | 3453895 |\n",
       "| 2 | 2011-01-03 | 181.37 | 186.0000 | 181.21 | 184.22 | 184.22 | 5333813 |\n",
       "| 3 | 2011-01-04 | 186.24 | 187.6995 | 183.78 | 185.01 | 185.01 | 5034775 |\n",
       "| 4 | 2011-01-05 | 184.10 | 187.4500 | 184.07 | 187.42 | 187.42 | 3418779 |\n",
       "| 5 | 2011-01-06 | 186.50 | 187.4100 | 185.25 | 185.86 | 185.86 | 3179610 |\n",
       "| 6 | 2011-01-07 | 187.88 | 188.4500 | 183.74 | 185.49 | 185.49 | 5222815 |\n",
       "\n"
      ],
      "text/plain": [
       "  Date       Open   High     Low    Close  Adj.Close Volume \n",
       "1 2010-12-31 181.96 182.3000 179.51 180.00 180.00    3453895\n",
       "2 2011-01-03 181.37 186.0000 181.21 184.22 184.22    5333813\n",
       "3 2011-01-04 186.24 187.6995 183.78 185.01 185.01    5034775\n",
       "4 2011-01-05 184.10 187.4500 184.07 187.42 187.42    3418779\n",
       "5 2011-01-06 186.50 187.4100 185.25 185.86 185.86    3179610\n",
       "6 2011-01-07 187.88 188.4500 183.74 185.49 185.49    5222815"
      ]
     },
     "metadata": {},
     "output_type": "display_data"
    }
   ],
   "source": [
    "head(data.AMZN)"
   ]
  },
  {
   "cell_type": "code",
   "execution_count": 3,
   "id": "3e11efd0-e62f-4b9d-beee-938c5a52f58f",
   "metadata": {},
   "outputs": [
    {
     "data": {
      "text/html": [
       "<table class=\"dataframe\">\n",
       "<caption>A data.frame: 6 × 7</caption>\n",
       "<thead>\n",
       "\t<tr><th></th><th scope=col>Date</th><th scope=col>Open</th><th scope=col>High</th><th scope=col>Low</th><th scope=col>Close</th><th scope=col>Adj.Close</th><th scope=col>Volume</th></tr>\n",
       "\t<tr><th></th><th scope=col>&lt;chr&gt;</th><th scope=col>&lt;dbl&gt;</th><th scope=col>&lt;dbl&gt;</th><th scope=col>&lt;dbl&gt;</th><th scope=col>&lt;dbl&gt;</th><th scope=col>&lt;dbl&gt;</th><th scope=col>&lt;int&gt;</th></tr>\n",
       "</thead>\n",
       "<tbody>\n",
       "\t<tr><th scope=row>749</th><td>2013-12-20</td><td>396.84</td><td>404.7200</td><td>395.78</td><td>402.20</td><td>402.20</td><td>5038537</td></tr>\n",
       "\t<tr><th scope=row>750</th><td>2013-12-23</td><td>403.47</td><td>405.0000</td><td>399.20</td><td>402.92</td><td>402.92</td><td>2661823</td></tr>\n",
       "\t<tr><th scope=row>751</th><td>2013-12-24</td><td>402.52</td><td>403.7249</td><td>396.37</td><td>399.20</td><td>399.20</td><td>1380373</td></tr>\n",
       "\t<tr><th scope=row>752</th><td>2013-12-26</td><td>401.15</td><td>404.5200</td><td>396.81</td><td>404.39</td><td>404.39</td><td>1871590</td></tr>\n",
       "\t<tr><th scope=row>753</th><td>2013-12-27</td><td>405.00</td><td>405.6300</td><td>396.25</td><td>398.08</td><td>398.08</td><td>1987280</td></tr>\n",
       "\t<tr><th scope=row>754</th><td>2013-12-30</td><td>399.92</td><td>399.9200</td><td>392.45</td><td>393.37</td><td>393.37</td><td>2487812</td></tr>\n",
       "</tbody>\n",
       "</table>\n"
      ],
      "text/latex": [
       "A data.frame: 6 × 7\n",
       "\\begin{tabular}{r|lllllll}\n",
       "  & Date & Open & High & Low & Close & Adj.Close & Volume\\\\\n",
       "  & <chr> & <dbl> & <dbl> & <dbl> & <dbl> & <dbl> & <int>\\\\\n",
       "\\hline\n",
       "\t749 & 2013-12-20 & 396.84 & 404.7200 & 395.78 & 402.20 & 402.20 & 5038537\\\\\n",
       "\t750 & 2013-12-23 & 403.47 & 405.0000 & 399.20 & 402.92 & 402.92 & 2661823\\\\\n",
       "\t751 & 2013-12-24 & 402.52 & 403.7249 & 396.37 & 399.20 & 399.20 & 1380373\\\\\n",
       "\t752 & 2013-12-26 & 401.15 & 404.5200 & 396.81 & 404.39 & 404.39 & 1871590\\\\\n",
       "\t753 & 2013-12-27 & 405.00 & 405.6300 & 396.25 & 398.08 & 398.08 & 1987280\\\\\n",
       "\t754 & 2013-12-30 & 399.92 & 399.9200 & 392.45 & 393.37 & 393.37 & 2487812\\\\\n",
       "\\end{tabular}\n"
      ],
      "text/markdown": [
       "\n",
       "A data.frame: 6 × 7\n",
       "\n",
       "| <!--/--> | Date &lt;chr&gt; | Open &lt;dbl&gt; | High &lt;dbl&gt; | Low &lt;dbl&gt; | Close &lt;dbl&gt; | Adj.Close &lt;dbl&gt; | Volume &lt;int&gt; |\n",
       "|---|---|---|---|---|---|---|---|\n",
       "| 749 | 2013-12-20 | 396.84 | 404.7200 | 395.78 | 402.20 | 402.20 | 5038537 |\n",
       "| 750 | 2013-12-23 | 403.47 | 405.0000 | 399.20 | 402.92 | 402.92 | 2661823 |\n",
       "| 751 | 2013-12-24 | 402.52 | 403.7249 | 396.37 | 399.20 | 399.20 | 1380373 |\n",
       "| 752 | 2013-12-26 | 401.15 | 404.5200 | 396.81 | 404.39 | 404.39 | 1871590 |\n",
       "| 753 | 2013-12-27 | 405.00 | 405.6300 | 396.25 | 398.08 | 398.08 | 1987280 |\n",
       "| 754 | 2013-12-30 | 399.92 | 399.9200 | 392.45 | 393.37 | 393.37 | 2487812 |\n",
       "\n"
      ],
      "text/plain": [
       "    Date       Open   High     Low    Close  Adj.Close Volume \n",
       "749 2013-12-20 396.84 404.7200 395.78 402.20 402.20    5038537\n",
       "750 2013-12-23 403.47 405.0000 399.20 402.92 402.92    2661823\n",
       "751 2013-12-24 402.52 403.7249 396.37 399.20 399.20    1380373\n",
       "752 2013-12-26 401.15 404.5200 396.81 404.39 404.39    1871590\n",
       "753 2013-12-27 405.00 405.6300 396.25 398.08 398.08    1987280\n",
       "754 2013-12-30 399.92 399.9200 392.45 393.37 393.37    2487812"
      ]
     },
     "metadata": {},
     "output_type": "display_data"
    }
   ],
   "source": [
    "tail(data.AMZN)"
   ]
  },
  {
   "cell_type": "markdown",
   "id": "17ac20bb-349c-4040-939c-60b076b686c3",
   "metadata": {},
   "source": [
    "## Convert the date Variable from a Factor to a Date"
   ]
  },
  {
   "cell_type": "code",
   "execution_count": 5,
   "id": "0dfe5371-881e-4c12-bc35-cdf114e3496f",
   "metadata": {},
   "outputs": [
    {
     "data": {
      "text/html": [
       "'data.frame'"
      ],
      "text/latex": [
       "'data.frame'"
      ],
      "text/markdown": [
       "'data.frame'"
      ],
      "text/plain": [
       "[1] \"data.frame\""
      ]
     },
     "metadata": {},
     "output_type": "display_data"
    }
   ],
   "source": [
    "class(data.AMZN)"
   ]
  },
  {
   "cell_type": "code",
   "execution_count": null,
   "id": "74eb9b2d-7694-4162-8509-e64ac691572b",
   "metadata": {},
   "outputs": [],
   "source": []
  }
 ],
 "metadata": {
  "kernelspec": {
   "display_name": "R",
   "language": "R",
   "name": "ir"
  },
  "language_info": {
   "codemirror_mode": "r",
   "file_extension": ".r",
   "mimetype": "text/x-r-source",
   "name": "R",
   "pygments_lexer": "r",
   "version": "4.1.2"
  }
 },
 "nbformat": 4,
 "nbformat_minor": 5
}
